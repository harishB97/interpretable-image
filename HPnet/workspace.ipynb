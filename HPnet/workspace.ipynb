{
 "cells": [
  {
   "cell_type": "code",
   "execution_count": 22,
   "metadata": {},
   "outputs": [],
   "source": [
    "import numpy as np\n",
    "import yaml\n",
    "import torch\n",
    "from data.phylogeny import PhylogenyCUB\n",
    "from data.analysis_utils import PhylogenyMapper, get_phylomapper_from_config"
   ]
  },
  {
   "cell_type": "code",
   "execution_count": 17,
   "metadata": {},
   "outputs": [],
   "source": [
    "phylo = PhylogenyCUB('/home/harishbabu/data/phlyogenyCUB')\n",
    "phyloDistances_string = '0.93,0.83,0.63'"
   ]
  },
  {
   "cell_type": "code",
   "execution_count": null,
   "metadata": {},
   "outputs": [],
   "source": [
    "\n",
    "phyloDistances = [float(x) for x in phyloDistances_string.split(',')[::-1]] + [1]\n",
    "num_levels = len(phyloDistances)\n",
    "\n",
    "ancestor_lvl_to_spc_groups = {} # maps ancestor levels (int) to spc groups (lists of species names)\n",
    "yaml_dict = {}\n",
    "for ancestor_lvl, phylo_dist in enumerate(phyloDistances[:-1]):\n",
    "    ancestor_lvl_to_spc_groups[ancestor_lvl] = [{spc_group[0]: spc_group} for spc_group in phylo.get_species_groups(1-phylo_dist)]\n",
    "    if len(yaml_dict) == 0:\n",
    "        for spc_group in ancestor_lvl_to_spc_groups[ancestor_lvl]:\n",
    "            representative = spc_group[0]\n",
    "            yaml_dict[representative] = {}\n",
    "    else:\n",
    "        for representative_spc_group in ancestor_lvl_to_spc_groups[ancestor_lvl]:\n",
    "\n",
    "            pass\n",
    "        ancestor_lvl_to_spc_groups[ancestor_lvl-1]\n",
    "\n",
    "lb_level_dict = [{spc_group[0]: spc_group} for spc_group in ancestor_lvl_to_spc_groups[num_levels-2]]\n",
    "\n",
    "for ancestor_lvl in range(num_levels-2, -1, -1):\n",
    "    pass"
   ]
  },
  {
   "cell_type": "code",
   "execution_count": 31,
   "metadata": {},
   "outputs": [
    {
     "name": "stdout",
     "output_type": "stream",
     "text": [
      "tensor([3])\n",
      "tensor([3])\n",
      "tensor([73])\n"
     ]
    }
   ],
   "source": [
    "for i in range(3):\n",
    "    phylomapper = get_phylomapper_from_config(PhylogenyCUB('/home/harishbabu/data/phlyogenyCUB'), phyloDistances_string, level=i)\n",
    "    mapped_truth = phylomapper.get_mapped_truth(torch.tensor([189]))\n",
    "    print(mapped_truth)"
   ]
  },
  {
   "cell_type": "code",
   "execution_count": 4,
   "metadata": {},
   "outputs": [],
   "source": [
    "import os\n",
    "import shutil\n",
    "\n",
    "import torch\n",
    "import torch.utils.data\n",
    "import transforms\n",
    "import torchvision.datasets as datasets\n",
    "import argparse\n",
    "from helpers import makedir, adjust_learning_rate\n",
    "import model\n",
    "import push\n",
    "import train_and_test as tnt\n",
    "import save\n",
    "from log import create_logger\n",
    "from preprocess import mean, std, preprocess_input_function, img_size\n",
    "from node import Node\n",
    "import time\n",
    "import numpy as np\n",
    "from data.phylogeny import PhylogenyCUB\n",
    "\n",
    "# root = Node(\"root\")\n",
    "# root.add_children(['animal','vehicle','everyday_object','weapon','scuba_diver'])\n",
    "# root.add_children_to('animal',['non_primate','primate'])\n",
    "# root.add_children_to('non_primate',['African_elephant','giant_panda','lion'])\n",
    "# root.add_children_to('primate',['capuchin','gibbon','orangutan'])\n",
    "# root.add_children_to('vehicle',['ambulance','pickup','sports_car'])\n",
    "# root.add_children_to('everyday_object',['laptop','sandal','wine_bottle'])\n",
    "# root.add_children_to('weapon',['assault_rifle','rifle'])"
   ]
  },
  {
   "cell_type": "code",
   "execution_count": 19,
   "metadata": {},
   "outputs": [],
   "source": [
    "def construct_phylo_tree(phylogeny_path, phyloDistances_string):\n",
    "    phylo = PhylogenyCUB(phylogeny_path) # '/home/harishbabu/data/phlyogenyCUB'\n",
    "    root = Node(\"root\")\n",
    "    phyloDistances = [float(x) for x in phyloDistances_string.split(',')[::-1]] + [1]\n",
    "    num_levels = len(phyloDistances)\n",
    "\n",
    "    ances_lvl_tag_prefix = '_lvl'\n",
    "\n",
    "    ancestor_lvl_to_spc_groups = {} # maps ancestor levels (int) to spc groups (dict mapping representative_species to a list of species)\n",
    "    for ancestor_lvl, phylo_dist in enumerate(phyloDistances):\n",
    "        if ancestor_lvl == len(phyloDistances)-1:\n",
    "            ancestor_lvl_to_spc_groups[ancestor_lvl] = {spc_group[0]: spc_group \\\n",
    "                                                        for spc_group in phylo.get_species_groups(1-phylo_dist)}\n",
    "        else:\n",
    "            ancestor_lvl_to_spc_groups[ancestor_lvl] = {(spc_group[0] + ances_lvl_tag_prefix + str(ancestor_lvl)): spc_group \\\n",
    "                                                        for spc_group in phylo.get_species_groups(1-phylo_dist)}\n",
    "        if ancestor_lvl == 0:\n",
    "            children_list = []\n",
    "            for representative, spc_group in ancestor_lvl_to_spc_groups[ancestor_lvl].items():\n",
    "                children_list.append(representative)\n",
    "            root.add_children(children_list)\n",
    "        else:\n",
    "            prev_level_representatives = [representative for representative, spc_group in ancestor_lvl_to_spc_groups[ancestor_lvl - 1].items()]\n",
    "            prev_level_representative_to_children = {representative: [] for representative in prev_level_representatives}\n",
    "            for representative, spc_group in ancestor_lvl_to_spc_groups[ancestor_lvl].items():\n",
    "                for prev_lvl_rep in prev_level_representatives:\n",
    "                    if representative.split(ances_lvl_tag_prefix)[0] in ancestor_lvl_to_spc_groups[ancestor_lvl - 1][prev_lvl_rep]:\n",
    "                        prev_level_representative_to_children[prev_lvl_rep].append(representative)\n",
    "                        break\n",
    "            \n",
    "            for prev_lvl_rep, children in prev_level_representative_to_children.items():\n",
    "                root.add_children_to(prev_lvl_rep, children)\n",
    "\n",
    "    return root\n"
   ]
  },
  {
   "cell_type": "code",
   "execution_count": 20,
   "metadata": {},
   "outputs": [
    {
     "name": "stdout",
     "output_type": "stream",
     "text": [
      "['cub_001_Black_footed_Albatross_lvl0', 'cub_004_Groove_billed_Ani_lvl0', 'cub_005_Crested_Auklet_lvl0', 'cub_009_Brewer_Blackbird_lvl0', 'cub_018_Spotted_Catbird_lvl0', 'cub_019_Gray_Catbird_lvl0', 'cub_023_Brandt_Cormorant_lvl0', 'cub_029_American_Crow_lvl0', 'cub_036_Northern_Flicker_lvl0', 'cub_037_Acadian_Flycatcher_lvl0', 'cub_046_Gadwall_lvl0', 'cub_050_Eared_Grebe_lvl0', 'cub_067_Anna_Hummingbird_lvl0', 'cub_085_Horned_Lark_lvl0', 'cub_086_Pacific_Loon_lvl0', 'cub_185_Bohemian_Waxwing_lvl0']\n"
     ]
    }
   ],
   "source": [
    "# root = construct_phylo_tree(phylogeny_path='/home/harishbabu/data/phlyogenyCUB', \n",
    "#                      phyloDistances_string='0.93,0.83,0.63')\n",
    "root = construct_phylo_tree(phylogeny_path='/home/harishbabu/data/phlyogenyCUB/1_tree-consensus-Hacket-AllSpecies-modified_cub-names_v1.phy',\n",
    "                          phyloDistances_string='0.93,0.83,0.63')\n",
    "print(getattr(root, 'children_names')())"
   ]
  },
  {
   "cell_type": "code",
   "execution_count": 25,
   "metadata": {},
   "outputs": [
    {
     "data": {
      "text/plain": [
       "['cub_004_Groove_billed_Ani']"
      ]
     },
     "execution_count": 25,
     "metadata": {},
     "output_type": "execute_result"
    }
   ],
   "source": [
    "root.children_names()\n",
    "root.get_node('cub_004_Groove_billed_Ani' + '_lvl2').children_names()"
   ]
  },
  {
   "attachments": {},
   "cell_type": "markdown",
   "metadata": {},
   "source": [
    "Testing unwrap_names_of_joint"
   ]
  },
  {
   "cell_type": "code",
   "execution_count": 11,
   "metadata": {},
   "outputs": [
    {
     "data": {
      "text/plain": [
       "[1, 2, 3, 4, 5, 6, 8, 9, 10]"
      ]
     },
     "execution_count": 11,
     "metadata": {},
     "output_type": "execute_result"
    }
   ],
   "source": [
    "def unwrap_names_of_joint(names):\n",
    "    # poorly written function for unwrapping nested lists up to depth 3 -- will cause bug if class hierarchy is too deep\n",
    "    def contains_list(names):\n",
    "        for item in names:\n",
    "            if type(item) is list:\n",
    "                return True\n",
    "        return False\n",
    "\n",
    "    if not contains_list(names):\n",
    "        return names\n",
    "\n",
    "    new_list = []\n",
    "    for item in names:\n",
    "        if type(item) is not list:\n",
    "            new_list += [item]\n",
    "        else:\n",
    "            new_list += unwrap_names_of_joint(item)\n",
    "    return new_list\n",
    "\n",
    "test_list = [[[1, 2], [3], [[4, 5, [6, [8, 9]], [10]]]]]\n",
    "unwrap_names_of_joint(test_list)"
   ]
  },
  {
   "cell_type": "code",
   "execution_count": 17,
   "metadata": {},
   "outputs": [
    {
     "data": {
      "text/plain": [
       "[1, 2, 3, 4]"
      ]
     },
     "execution_count": 17,
     "metadata": {},
     "output_type": "execute_result"
    }
   ],
   "source": [
    "def unwrap_names_of_joint(names):\n",
    "    # poorly written function for unwrapping nested lists up to depth 3 -- will cause bug if class hierarchy is too deep\n",
    "    new_list = []\n",
    "    for item in names:\n",
    "        if type(item) is not list:\n",
    "            new_list.append(item)\n",
    "        else:\n",
    "            for subitem in item:\n",
    "                if type(subitem) is not list:\n",
    "                    new_list.append(subitem)\n",
    "                else:\n",
    "                    for subsubitem in subitem:\n",
    "                        if type(subsubitem) is not list:\n",
    "                            new_list.append(subsubitem)\n",
    "                        else:\n",
    "                            for subsubsubitem in subsubitem:\n",
    "                                if type(subsubsubitem) is not list:\n",
    "                                    new_list.append(subsubsubitem)\n",
    "\n",
    "    return new_list\n",
    "test_list = [[1, 2], [3], [[4, 5, [6, [8, 9]], [10]]]]\n",
    "test_list = [[1], 2, [[3, 4]], [[[[5, 6]]]]]\n",
    "unwrap_names_of_joint(test_list)"
   ]
  },
  {
   "cell_type": "code",
   "execution_count": 27,
   "metadata": {},
   "outputs": [
    {
     "data": {
      "text/plain": [
       "['001.Black_footed_Albatross_lvl0',\n",
       " '004.Groove_billed_Ani_lvl0',\n",
       " '005.Crested_Auklet_lvl0',\n",
       " '009.Brewer_Blackbird_lvl0',\n",
       " '018.Spotted_Catbird_lvl0',\n",
       " '019.Gray_Catbird_lvl0',\n",
       " '023.Brandt_Cormorant_lvl0',\n",
       " '029.American_Crow_lvl0',\n",
       " '036.Northern_Flicker_lvl0',\n",
       " '037.Acadian_Flycatcher_lvl0',\n",
       " '046.Gadwall_lvl0',\n",
       " '050.Eared_Grebe_lvl0',\n",
       " '067.Anna_Hummingbird_lvl0',\n",
       " '085.Horned_Lark_lvl0',\n",
       " '086.Pacific_Loon_lvl0',\n",
       " '185.Bohemian_Waxwing_lvl0']"
      ]
     },
     "execution_count": 27,
     "metadata": {},
     "output_type": "execute_result"
    }
   ],
   "source": [
    "dir(root)\n",
    "# setattr()\n",
    "getattr(root, 'children_names')()"
   ]
  },
  {
   "cell_type": "code",
   "execution_count": 17,
   "metadata": {},
   "outputs": [],
   "source": [
    "from node import Node\n",
    "# import time\n",
    "# import numpy as np\n",
    "from data.phylogeny import PhylogenyCUB\n",
    "\n",
    "def construct_phylo_tree(phylogeny_path, phyloDistances_string):\n",
    "    phylo = PhylogenyCUB(phylogeny_path) # '/home/harishbabu/data/phlyogenyCUB'\n",
    "    root = Node(\"root\")\n",
    "    phyloDistances = [float(x) for x in phyloDistances_string.split(',')[::-1]] + [1]\n",
    "    num_levels = len(phyloDistances)\n",
    "\n",
    "    ances_lvl_tag_prefix = '_lvl'\n",
    "\n",
    "    ancestor_lvl_to_spc_groups = {} # maps ancestor levels (int) to spc groups (dict mapping representative_species to a list of species)\n",
    "    for ancestor_lvl, phylo_dist in enumerate(phyloDistances[:-1]):\n",
    "        ancestor_lvl_to_spc_groups[ancestor_lvl] = {(spc_group[0] + ances_lvl_tag_prefix + str(ancestor_lvl)): spc_group \\\n",
    "                                                    for spc_group in phylo.get_species_groups(1-phylo_dist)}\n",
    "        \n",
    "        if ancestor_lvl == 0:\n",
    "            children_list = []\n",
    "            for representative, spc_group in ancestor_lvl_to_spc_groups[ancestor_lvl].items():\n",
    "                children_list.append(representative)\n",
    "            root.add_children(children_list)\n",
    "        else:\n",
    "            prev_level_representatives = [representative for representative, spc_group in ancestor_lvl_to_spc_groups[ancestor_lvl - 1].items()]\n",
    "            prev_level_representative_to_children = {representative: [] for representative in prev_level_representatives}\n",
    "            for representative, spc_group in ancestor_lvl_to_spc_groups[ancestor_lvl].items():\n",
    "                for prev_lvl_rep in prev_level_representatives:\n",
    "                    if representative.split(ances_lvl_tag_prefix)[0] in ancestor_lvl_to_spc_groups[ancestor_lvl - 1][prev_lvl_rep]:\n",
    "                        prev_level_representative_to_children[prev_lvl_rep].append(representative)\n",
    "                        break\n",
    "            \n",
    "            for prev_lvl_rep, children in prev_level_representative_to_children.items():\n",
    "                root.add_children_to(prev_lvl_rep, children)\n",
    "\n",
    "    return root"
   ]
  },
  {
   "cell_type": "code",
   "execution_count": 18,
   "metadata": {},
   "outputs": [
    {
     "name": "stdout",
     "output_type": "stream",
     "text": [
      "cub_001_Black_footed_Albatross_lvl0\n",
      "cub_004_Groove_billed_Ani_lvl0\n",
      "cub_005_Crested_Auklet_lvl0\n",
      "cub_009_Brewer_Blackbird_lvl0\n",
      "cub_018_Spotted_Catbird_lvl0\n",
      "cub_019_Gray_Catbird_lvl0\n",
      "cub_023_Brandt_Cormorant_lvl0\n",
      "cub_029_American_Crow_lvl0\n",
      "cub_036_Northern_Flicker_lvl0\n",
      "cub_037_Acadian_Flycatcher_lvl0\n",
      "cub_046_Gadwall_lvl0\n",
      "cub_050_Eared_Grebe_lvl0\n",
      "cub_067_Anna_Hummingbird_lvl0\n",
      "cub_085_Horned_Lark_lvl0\n",
      "cub_086_Pacific_Loon_lvl0\n",
      "cub_185_Bohemian_Waxwing_lvl0\n"
     ]
    }
   ],
   "source": [
    "root = construct_phylo_tree(phylogeny_path='/home/harishbabu/data/phlyogenyCUB/1_tree-consensus-Hacket-AllSpecies-modified_cub-names_v1.phy',\n",
    "                          phyloDistances_string='0.93,0.83,0.63')\n",
    "# root = construct_phylo_tree(phylogeny_path='/home/harishbabu/data/phlyogenyCUB/1_tree-consensus-Hacket-AllSpecies-cub-names.phy',\n",
    "#                           phyloDistances_string='0.93,0.83,0.63')\n",
    "# print(getattr(root, 'children_names')())\n",
    "for child in getattr(root, 'children_names')():\n",
    "    print(child)"
   ]
  },
  {
   "cell_type": "code",
   "execution_count": 5,
   "metadata": {},
   "outputs": [],
   "source": [
    "# root.get_node('cub_046_Gadwall' + '_lvl0').children_names()"
   ]
  },
  {
   "cell_type": "code",
   "execution_count": 16,
   "metadata": {},
   "outputs": [
    {
     "data": {
      "text/plain": [
       "16"
      ]
     },
     "execution_count": 16,
     "metadata": {},
     "output_type": "execute_result"
    }
   ],
   "source": [
    "phylo = PhylogenyCUB('/home/harishbabu/data/phlyogenyCUB/1_tree-consensus-Hacket-AllSpecies-modified_cub-names_v1.phy')\n",
    "# phylo = PhylogenyCUB('/home/harishbabu/data/phlyogenyCUB/1_tree-consensus-Hacket-AllSpecies-cub-names.phy')\n",
    "\n",
    "# for node in phylo.tree.iter_leaves():\n",
    "#     print(node.name)\n",
    "    # node.name = \"_\".join(['cub'] + node.name.split('.'))\n",
    "\n",
    "spc_grps = phylo.get_species_groups(1-0.63)\n",
    "len(spc_grps)"
   ]
  },
  {
   "cell_type": "code",
   "execution_count": null,
   "metadata": {},
   "outputs": [],
   "source": []
  }
 ],
 "metadata": {
  "kernelspec": {
   "display_name": "taming3",
   "language": "python",
   "name": "python3"
  },
  "language_info": {
   "codemirror_mode": {
    "name": "ipython",
    "version": 3
   },
   "file_extension": ".py",
   "mimetype": "text/x-python",
   "name": "python",
   "nbconvert_exporter": "python",
   "pygments_lexer": "ipython3",
   "version": "3.8.5"
  },
  "orig_nbformat": 4,
  "vscode": {
   "interpreter": {
    "hash": "4de04e05afac88dddc21d8e2959a434f0ee922023dd00da3134d4a51f0c8927a"
   }
  }
 },
 "nbformat": 4,
 "nbformat_minor": 2
}
